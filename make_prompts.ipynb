{
 "cells": [
  {
   "cell_type": "markdown",
   "id": "f746e97b",
   "metadata": {},
   "source": [
    "# Making Prompts (holdout)"
   ]
  },
  {
   "cell_type": "code",
   "execution_count": 1,
   "id": "ccc04222",
   "metadata": {},
   "outputs": [],
   "source": [
    "import random\n",
    "import pandas as pd\n",
    "import numpy as np"
   ]
  },
  {
   "cell_type": "code",
   "execution_count": 2,
   "id": "4e69bbdd",
   "metadata": {},
   "outputs": [],
   "source": [
    "with open('/share/u/rohit/erase-closed/data/artists_sd.txt') as fp:\n",
    "    artists_list = fp.readlines()\n",
    "\n",
    "artists_list = [artist.strip().split(',')[0] for artist in artists_list]"
   ]
  },
  {
   "cell_type": "code",
   "execution_count": 3,
   "id": "450af770",
   "metadata": {},
   "outputs": [],
   "source": [
    "from random import randrange\n",
    "num_holdout = 100\n",
    "holdout_idxs = np.arange(len(artists_list))\n",
    "random.shuffle(holdout_idxs)\n",
    "holdout_idxs = holdout_idxs[:100]"
   ]
  },
  {
   "cell_type": "code",
   "execution_count": 4,
   "id": "ae9a3223",
   "metadata": {},
   "outputs": [],
   "source": [
    "holdout = []\n",
    "artists = [] \n",
    "for i, artist in enumerate(artists_list):\n",
    "    if i in holdout_idxs:\n",
    "        holdout.append(artist)\n",
    "    else:\n",
    "        artists.append(artist)"
   ]
  },
  {
   "cell_type": "code",
   "execution_count": 5,
   "id": "ca9d2429",
   "metadata": {},
   "outputs": [
    {
     "data": {
      "text/plain": [
       "(100, 1734, 1834)"
      ]
     },
     "execution_count": 5,
     "metadata": {},
     "output_type": "execute_result"
    }
   ],
   "source": [
    "len(holdout), len(artists), len(artists_list)"
   ]
  },
  {
   "cell_type": "code",
   "execution_count": 6,
   "id": "63f2be8c",
   "metadata": {},
   "outputs": [],
   "source": [
    "import pandas as pd\n",
    "def create_prompts(names, filename='holdout100_prompts'):\n",
    "    prompts = []\n",
    "    artist_names = [] \n",
    "    for artist in names:\n",
    "        prompts.append(f'Image in the style of {artist}')\n",
    "        prompts.append(f'Art inspired by {artist}')\n",
    "        prompts.append(f'Painting in the style of {artist}')\n",
    "        prompts.append(f'A reproduction of art by {artist}')\n",
    "        prompts.append(f'A famous artwork by {artist}')\n",
    "\n",
    "        artist_names.extend([artist]*5)\n",
    "\n",
    "    seeds = [random.randint(0,5000) for i in prompts]\n",
    "    case_numbers = np.arange(len(seeds))\n",
    "\n",
    "    df = pd.DataFrame({'case_number': case_numbers, 'prompt': prompts, 'evaluation_seed': seeds, 'artist': artist_names})\n",
    "    df.to_csv(f'data/{filename}.csv')\n",
    "    return df"
   ]
  },
  {
   "cell_type": "code",
   "execution_count": 7,
   "id": "5d743de5",
   "metadata": {},
   "outputs": [
    {
     "data": {
      "text/html": [
       "<div>\n",
       "<style scoped>\n",
       "    .dataframe tbody tr th:only-of-type {\n",
       "        vertical-align: middle;\n",
       "    }\n",
       "\n",
       "    .dataframe tbody tr th {\n",
       "        vertical-align: top;\n",
       "    }\n",
       "\n",
       "    .dataframe thead th {\n",
       "        text-align: right;\n",
       "    }\n",
       "</style>\n",
       "<table border=\"1\" class=\"dataframe\">\n",
       "  <thead>\n",
       "    <tr style=\"text-align: right;\">\n",
       "      <th></th>\n",
       "      <th>case_number</th>\n",
       "      <th>prompt</th>\n",
       "      <th>evaluation_seed</th>\n",
       "      <th>artist</th>\n",
       "    </tr>\n",
       "  </thead>\n",
       "  <tbody>\n",
       "    <tr>\n",
       "      <th>0</th>\n",
       "      <td>0</td>\n",
       "      <td>Image in the style of Alasdair McLellan</td>\n",
       "      <td>3753</td>\n",
       "      <td>Alasdair McLellan</td>\n",
       "    </tr>\n",
       "    <tr>\n",
       "      <th>1</th>\n",
       "      <td>1</td>\n",
       "      <td>Art inspired by Alasdair McLellan</td>\n",
       "      <td>1920</td>\n",
       "      <td>Alasdair McLellan</td>\n",
       "    </tr>\n",
       "    <tr>\n",
       "      <th>2</th>\n",
       "      <td>2</td>\n",
       "      <td>Painting in the style of Alasdair McLellan</td>\n",
       "      <td>53</td>\n",
       "      <td>Alasdair McLellan</td>\n",
       "    </tr>\n",
       "    <tr>\n",
       "      <th>3</th>\n",
       "      <td>3</td>\n",
       "      <td>A reproduction of art by Alasdair McLellan</td>\n",
       "      <td>4876</td>\n",
       "      <td>Alasdair McLellan</td>\n",
       "    </tr>\n",
       "    <tr>\n",
       "      <th>4</th>\n",
       "      <td>4</td>\n",
       "      <td>A famous artwork by Alasdair McLellan</td>\n",
       "      <td>2979</td>\n",
       "      <td>Alasdair McLellan</td>\n",
       "    </tr>\n",
       "    <tr>\n",
       "      <th>...</th>\n",
       "      <td>...</td>\n",
       "      <td>...</td>\n",
       "      <td>...</td>\n",
       "      <td>...</td>\n",
       "    </tr>\n",
       "    <tr>\n",
       "      <th>495</th>\n",
       "      <td>495</td>\n",
       "      <td>Image in the style of Zeen Chin</td>\n",
       "      <td>853</td>\n",
       "      <td>Zeen Chin</td>\n",
       "    </tr>\n",
       "    <tr>\n",
       "      <th>496</th>\n",
       "      <td>496</td>\n",
       "      <td>Art inspired by Zeen Chin</td>\n",
       "      <td>82</td>\n",
       "      <td>Zeen Chin</td>\n",
       "    </tr>\n",
       "    <tr>\n",
       "      <th>497</th>\n",
       "      <td>497</td>\n",
       "      <td>Painting in the style of Zeen Chin</td>\n",
       "      <td>506</td>\n",
       "      <td>Zeen Chin</td>\n",
       "    </tr>\n",
       "    <tr>\n",
       "      <th>498</th>\n",
       "      <td>498</td>\n",
       "      <td>A reproduction of art by Zeen Chin</td>\n",
       "      <td>3074</td>\n",
       "      <td>Zeen Chin</td>\n",
       "    </tr>\n",
       "    <tr>\n",
       "      <th>499</th>\n",
       "      <td>499</td>\n",
       "      <td>A famous artwork by Zeen Chin</td>\n",
       "      <td>4558</td>\n",
       "      <td>Zeen Chin</td>\n",
       "    </tr>\n",
       "  </tbody>\n",
       "</table>\n",
       "<p>500 rows × 4 columns</p>\n",
       "</div>"
      ],
      "text/plain": [
       "     case_number                                      prompt  evaluation_seed  \\\n",
       "0              0     Image in the style of Alasdair McLellan             3753   \n",
       "1              1           Art inspired by Alasdair McLellan             1920   \n",
       "2              2  Painting in the style of Alasdair McLellan               53   \n",
       "3              3  A reproduction of art by Alasdair McLellan             4876   \n",
       "4              4       A famous artwork by Alasdair McLellan             2979   \n",
       "..           ...                                         ...              ...   \n",
       "495          495             Image in the style of Zeen Chin              853   \n",
       "496          496                   Art inspired by Zeen Chin               82   \n",
       "497          497          Painting in the style of Zeen Chin              506   \n",
       "498          498          A reproduction of art by Zeen Chin             3074   \n",
       "499          499               A famous artwork by Zeen Chin             4558   \n",
       "\n",
       "                artist  \n",
       "0    Alasdair McLellan  \n",
       "1    Alasdair McLellan  \n",
       "2    Alasdair McLellan  \n",
       "3    Alasdair McLellan  \n",
       "4    Alasdair McLellan  \n",
       "..                 ...  \n",
       "495          Zeen Chin  \n",
       "496          Zeen Chin  \n",
       "497          Zeen Chin  \n",
       "498          Zeen Chin  \n",
       "499          Zeen Chin  \n",
       "\n",
       "[500 rows x 4 columns]"
      ]
     },
     "execution_count": 7,
     "metadata": {},
     "output_type": "execute_result"
    }
   ],
   "source": [
    "create_prompts(holdout, filename='holdout100_prompts')"
   ]
  },
  {
   "cell_type": "code",
   "execution_count": 8,
   "id": "ce0eb0aa",
   "metadata": {
    "scrolled": true
   },
   "outputs": [
    {
     "data": {
      "text/html": [
       "<div>\n",
       "<style scoped>\n",
       "    .dataframe tbody tr th:only-of-type {\n",
       "        vertical-align: middle;\n",
       "    }\n",
       "\n",
       "    .dataframe tbody tr th {\n",
       "        vertical-align: top;\n",
       "    }\n",
       "\n",
       "    .dataframe thead th {\n",
       "        text-align: right;\n",
       "    }\n",
       "</style>\n",
       "<table border=\"1\" class=\"dataframe\">\n",
       "  <thead>\n",
       "    <tr style=\"text-align: right;\">\n",
       "      <th></th>\n",
       "      <th>case_number</th>\n",
       "      <th>prompt</th>\n",
       "      <th>evaluation_seed</th>\n",
       "      <th>artist</th>\n",
       "    </tr>\n",
       "  </thead>\n",
       "  <tbody>\n",
       "    <tr>\n",
       "      <th>0</th>\n",
       "      <td>0</td>\n",
       "      <td>Image in the style of A.J.Casson</td>\n",
       "      <td>2657</td>\n",
       "      <td>A.J.Casson</td>\n",
       "    </tr>\n",
       "    <tr>\n",
       "      <th>1</th>\n",
       "      <td>1</td>\n",
       "      <td>Art inspired by A.J.Casson</td>\n",
       "      <td>2976</td>\n",
       "      <td>A.J.Casson</td>\n",
       "    </tr>\n",
       "    <tr>\n",
       "      <th>2</th>\n",
       "      <td>2</td>\n",
       "      <td>Painting in the style of A.J.Casson</td>\n",
       "      <td>4431</td>\n",
       "      <td>A.J.Casson</td>\n",
       "    </tr>\n",
       "    <tr>\n",
       "      <th>3</th>\n",
       "      <td>3</td>\n",
       "      <td>A reproduction of art by A.J.Casson</td>\n",
       "      <td>1872</td>\n",
       "      <td>A.J.Casson</td>\n",
       "    </tr>\n",
       "    <tr>\n",
       "      <th>4</th>\n",
       "      <td>4</td>\n",
       "      <td>A famous artwork by A.J.Casson</td>\n",
       "      <td>4593</td>\n",
       "      <td>A.J.Casson</td>\n",
       "    </tr>\n",
       "    <tr>\n",
       "      <th>...</th>\n",
       "      <td>...</td>\n",
       "      <td>...</td>\n",
       "      <td>...</td>\n",
       "      <td>...</td>\n",
       "    </tr>\n",
       "    <tr>\n",
       "      <th>8665</th>\n",
       "      <td>8665</td>\n",
       "      <td>Image in the style of Étienne-Louis Boullée</td>\n",
       "      <td>4517</td>\n",
       "      <td>Étienne-Louis Boullée</td>\n",
       "    </tr>\n",
       "    <tr>\n",
       "      <th>8666</th>\n",
       "      <td>8666</td>\n",
       "      <td>Art inspired by Étienne-Louis Boullée</td>\n",
       "      <td>979</td>\n",
       "      <td>Étienne-Louis Boullée</td>\n",
       "    </tr>\n",
       "    <tr>\n",
       "      <th>8667</th>\n",
       "      <td>8667</td>\n",
       "      <td>Painting in the style of Étienne-Louis Boullée</td>\n",
       "      <td>4234</td>\n",
       "      <td>Étienne-Louis Boullée</td>\n",
       "    </tr>\n",
       "    <tr>\n",
       "      <th>8668</th>\n",
       "      <td>8668</td>\n",
       "      <td>A reproduction of art by Étienne-Louis Boullée</td>\n",
       "      <td>4981</td>\n",
       "      <td>Étienne-Louis Boullée</td>\n",
       "    </tr>\n",
       "    <tr>\n",
       "      <th>8669</th>\n",
       "      <td>8669</td>\n",
       "      <td>A famous artwork by Étienne-Louis Boullée</td>\n",
       "      <td>1284</td>\n",
       "      <td>Étienne-Louis Boullée</td>\n",
       "    </tr>\n",
       "  </tbody>\n",
       "</table>\n",
       "<p>8670 rows × 4 columns</p>\n",
       "</div>"
      ],
      "text/plain": [
       "      case_number                                          prompt  \\\n",
       "0               0                Image in the style of A.J.Casson   \n",
       "1               1                      Art inspired by A.J.Casson   \n",
       "2               2             Painting in the style of A.J.Casson   \n",
       "3               3             A reproduction of art by A.J.Casson   \n",
       "4               4                  A famous artwork by A.J.Casson   \n",
       "...           ...                                             ...   \n",
       "8665         8665     Image in the style of Étienne-Louis Boullée   \n",
       "8666         8666           Art inspired by Étienne-Louis Boullée   \n",
       "8667         8667  Painting in the style of Étienne-Louis Boullée   \n",
       "8668         8668  A reproduction of art by Étienne-Louis Boullée   \n",
       "8669         8669       A famous artwork by Étienne-Louis Boullée   \n",
       "\n",
       "      evaluation_seed                 artist  \n",
       "0                2657             A.J.Casson  \n",
       "1                2976             A.J.Casson  \n",
       "2                4431             A.J.Casson  \n",
       "3                1872             A.J.Casson  \n",
       "4                4593             A.J.Casson  \n",
       "...               ...                    ...  \n",
       "8665             4517  Étienne-Louis Boullée  \n",
       "8666              979  Étienne-Louis Boullée  \n",
       "8667             4234  Étienne-Louis Boullée  \n",
       "8668             4981  Étienne-Louis Boullée  \n",
       "8669             1284  Étienne-Louis Boullée  \n",
       "\n",
       "[8670 rows x 4 columns]"
      ]
     },
     "execution_count": 8,
     "metadata": {},
     "output_type": "execute_result"
    }
   ],
   "source": [
    "create_prompts(artists, filename='artists1734_prompts')"
   ]
  },
  {
   "cell_type": "code",
   "execution_count": 1,
   "id": "c1c0f26d",
   "metadata": {},
   "outputs": [
    {
     "name": "stdout",
     "output_type": "stream",
     "text": [
      "['great', 'actors', 'bad', 'movie', 'plot', 'bad', 'actors', 'bad', 'time', 'wasted'] ['campy', 'and', 'fun', 'movie', 'a', 'cult', 'classic', 'great', 'script', 'twist', 'ending']\n",
      "7 11\n",
      "{'wasted', 'movie', 'great', 'bad', 'time', 'plot', 'actors'} {'script', 'movie', 'campy', 'classic', 'great', 'and', 'twist', 'fun', 'a', 'ending', 'cult'}\n"
     ]
    }
   ],
   "source": [
    "bad = 'Great actors bad movie Plot bad actors bad time wasted'\n",
    "good = 'Campy and fun movie a cult classic Great script twist ending'\n",
    "\n",
    "bad = bad.split(' ')\n",
    "good = good.split(' ')\n",
    "\n",
    "bad = [b.lower() for b in bad]\n",
    "good = [g.lower() for g in good]\n",
    "\n",
    "print(bad, good)\n",
    "\n",
    "print(len(set(bad)), len(set(good)))\n",
    "\n",
    "print(set(bad), set(good))"
   ]
  },
  {
   "cell_type": "code",
   "execution_count": 2,
   "id": "1797110c",
   "metadata": {},
   "outputs": [
    {
     "name": "stdout",
     "output_type": "stream",
     "text": [
      "16\n"
     ]
    }
   ],
   "source": [
    "print(len(set(bad+good)))"
   ]
  },
  {
   "cell_type": "code",
   "execution_count": 5,
   "id": "655c8b63",
   "metadata": {},
   "outputs": [
    {
     "name": "stdout",
     "output_type": "stream",
     "text": [
      " wasted \t Good: 0 Bad: 1\n",
      " script \t Good: 1 Bad: 0\n",
      " movie \t Good: 1 Bad: 1\n",
      " campy \t Good: 1 Bad: 0\n",
      " classic \t Good: 1 Bad: 0\n",
      " great \t Good: 1 Bad: 1\n",
      " bad \t Good: 0 Bad: 3\n",
      " and \t Good: 1 Bad: 0\n",
      " fun \t Good: 1 Bad: 0\n",
      " time \t Good: 0 Bad: 1\n",
      " twist \t Good: 1 Bad: 0\n",
      " a \t Good: 1 Bad: 0\n",
      " ending \t Good: 1 Bad: 0\n",
      " plot \t Good: 0 Bad: 1\n",
      " actors \t Good: 0 Bad: 2\n",
      " cult \t Good: 1 Bad: 0\n"
     ]
    }
   ],
   "source": [
    "for word in set(bad+good):\n",
    "#     print(word)\n",
    "    count = 0\n",
    "    for w in good:\n",
    "        if w == word:\n",
    "            count+=1\n",
    "#     print(f'Good: {count}')\n",
    "    count_ = count\n",
    "    count = 0\n",
    "    for w in bad:\n",
    "        if w == word:\n",
    "            count+=1\n",
    "    print(f' {word} \\t Good: {count_} Bad: {count}')"
   ]
  },
  {
   "cell_type": "code",
   "execution_count": 7,
   "id": "2415830e",
   "metadata": {},
   "outputs": [
    {
     "name": "stdout",
     "output_type": "stream",
     "text": [
      "python eval-scripts/generate-images.py --save_path '/share/u/rohit/www/closed_form/limitTest/intended/' --prompts_path '/share/u/rohit/erase-closed/data/artists1734_prompts.csv' --num_samples 1 --model_name 'diffusers-erasing-1-with-preservation.pt'\n",
      "python eval-scripts/generate-images.py --save_path '/share/u/rohit/www/closed_form/limitTest/intended/' --prompts_path '/share/u/rohit/erase-closed/data/artists1734_prompts.csv' --num_samples 1 --model_name 'diffusers-erasing-5-with-preservation.pt'\n",
      "python eval-scripts/generate-images.py --save_path '/share/u/rohit/www/closed_form/limitTest/intended/' --prompts_path '/share/u/rohit/erase-closed/data/artists1734_prompts.csv' --num_samples 1 --model_name 'diffusers-erasing-10-with-preservation.pt'\n",
      "python eval-scripts/generate-images.py --save_path '/share/u/rohit/www/closed_form/limitTest/intended/' --prompts_path '/share/u/rohit/erase-closed/data/artists1734_prompts.csv' --num_samples 1 --model_name 'diffusers-erasing-25-with-preservation.pt'\n",
      "python eval-scripts/generate-images.py --save_path '/share/u/rohit/www/closed_form/limitTest/intended/' --prompts_path '/share/u/rohit/erase-closed/data/artists1734_prompts.csv' --num_samples 1 --model_name 'diffusers-erasing-50-with-preservation.pt'\n",
      "python eval-scripts/generate-images.py --save_path '/share/u/rohit/www/closed_form/limitTest/intended/' --prompts_path '/share/u/rohit/erase-closed/data/artists1734_prompts.csv' --num_samples 1 --model_name 'diffusers-erasing-100-with-preservation.pt'\n",
      "python eval-scripts/generate-images.py --save_path '/share/u/rohit/www/closed_form/limitTest/intended/' --prompts_path '/share/u/rohit/erase-closed/data/artists1734_prompts.csv' --num_samples 1 --model_name 'diffusers-erasing-200-with-preservation.pt'\n",
      "python eval-scripts/generate-images.py --save_path '/share/u/rohit/www/closed_form/limitTest/intended/' --prompts_path '/share/u/rohit/erase-closed/data/artists1734_prompts.csv' --num_samples 1 --model_name 'diffusers-erasing-300-with-preservation.pt'\n",
      "python eval-scripts/generate-images.py --save_path '/share/u/rohit/www/closed_form/limitTest/intended/' --prompts_path '/share/u/rohit/erase-closed/data/artists1734_prompts.csv' --num_samples 1 --model_name 'diffusers-erasing-400-with-preservation.pt'\n",
      "python eval-scripts/generate-images.py --save_path '/share/u/rohit/www/closed_form/limitTest/intended/' --prompts_path '/share/u/rohit/erase-closed/data/artists1734_prompts.csv' --num_samples 1 --model_name 'diffusers-erasing-500-with-preservation.pt'\n",
      "python eval-scripts/generate-images.py --save_path '/share/u/rohit/www/closed_form/limitTest/intended/' --prompts_path '/share/u/rohit/erase-closed/data/artists1734_prompts.csv' --num_samples 1 --model_name 'diffusers-erasing-1000-with-preservation.pt'\n",
      "python eval-scripts/generate-images.py --save_path '/share/u/rohit/www/closed_form/limitTest/intended/' --prompts_path '/share/u/rohit/erase-closed/data/artists1734_prompts.csv' --num_samples 1 --model_name 'diffusers-erasing-1500-with-preservation.pt'\n",
      "python eval-scripts/generate-images.py --save_path '/share/u/rohit/www/closed_form/limitTest/intended/' --prompts_path '/share/u/rohit/erase-closed/data/artists1734_prompts.csv' --num_samples 1 --model_name 'diffusers-erasing-1734-with-preservation.pt'\n"
     ]
    }
   ],
   "source": [
    "for count in [1, 5, 10, 25, 50, 100, 200, 300, 400, 500, 1000, 1500, 1734]:    \n",
    "    print(f\"python eval-scripts/generate-images.py --save_path '/share/u/rohit/www/closed_form/limitTest/intended/' --prompts_path '/share/u/rohit/erase-closed/data/artists1734_prompts.csv' --num_samples 1 --model_name 'diffusers-erasing-{count}-with-preservation.pt'\")"
   ]
  },
  {
   "cell_type": "code",
   "execution_count": 6,
   "id": "3f14a194",
   "metadata": {},
   "outputs": [
    {
     "name": "stdout",
     "output_type": "stream",
     "text": [
      "python eval-scripts/lpips_eval.py --original_path '/share/u/rohit/www/closed_form/limitTest/original/' --csv_path '/share/u/rohit/erase-closed/data/holdout100_prompts.csv' --save_path '/share/u/rohit/www/closed_form/limitTest/' --edited_path '/share/u/rohit/www/closed_form/limitTest/erasing-1-with-preservation/'\n",
      "python eval-scripts/lpips_eval.py --original_path '/share/u/rohit/www/closed_form/limitTest/original/' --csv_path '/share/u/rohit/erase-closed/data/holdout100_prompts.csv' --save_path '/share/u/rohit/www/closed_form/limitTest/' --edited_path '/share/u/rohit/www/closed_form/limitTest/erasing-5-with-preservation/'\n",
      "python eval-scripts/lpips_eval.py --original_path '/share/u/rohit/www/closed_form/limitTest/original/' --csv_path '/share/u/rohit/erase-closed/data/holdout100_prompts.csv' --save_path '/share/u/rohit/www/closed_form/limitTest/' --edited_path '/share/u/rohit/www/closed_form/limitTest/erasing-10-with-preservation/'\n",
      "python eval-scripts/lpips_eval.py --original_path '/share/u/rohit/www/closed_form/limitTest/original/' --csv_path '/share/u/rohit/erase-closed/data/holdout100_prompts.csv' --save_path '/share/u/rohit/www/closed_form/limitTest/' --edited_path '/share/u/rohit/www/closed_form/limitTest/erasing-25-with-preservation/'\n",
      "python eval-scripts/lpips_eval.py --original_path '/share/u/rohit/www/closed_form/limitTest/original/' --csv_path '/share/u/rohit/erase-closed/data/holdout100_prompts.csv' --save_path '/share/u/rohit/www/closed_form/limitTest/' --edited_path '/share/u/rohit/www/closed_form/limitTest/erasing-50-with-preservation/'\n",
      "python eval-scripts/lpips_eval.py --original_path '/share/u/rohit/www/closed_form/limitTest/original/' --csv_path '/share/u/rohit/erase-closed/data/holdout100_prompts.csv' --save_path '/share/u/rohit/www/closed_form/limitTest/' --edited_path '/share/u/rohit/www/closed_form/limitTest/erasing-100-with-preservation/'\n",
      "python eval-scripts/lpips_eval.py --original_path '/share/u/rohit/www/closed_form/limitTest/original/' --csv_path '/share/u/rohit/erase-closed/data/holdout100_prompts.csv' --save_path '/share/u/rohit/www/closed_form/limitTest/' --edited_path '/share/u/rohit/www/closed_form/limitTest/erasing-500-with-preservation/'\n",
      "python eval-scripts/lpips_eval.py --original_path '/share/u/rohit/www/closed_form/limitTest/original/' --csv_path '/share/u/rohit/erase-closed/data/holdout100_prompts.csv' --save_path '/share/u/rohit/www/closed_form/limitTest/' --edited_path '/share/u/rohit/www/closed_form/limitTest/erasing-1000-with-preservation/'\n",
      "python eval-scripts/lpips_eval.py --original_path '/share/u/rohit/www/closed_form/limitTest/original/' --csv_path '/share/u/rohit/erase-closed/data/holdout100_prompts.csv' --save_path '/share/u/rohit/www/closed_form/limitTest/' --edited_path '/share/u/rohit/www/closed_form/limitTest/erasing-1500-with-preservation/'\n",
      "python eval-scripts/lpips_eval.py --original_path '/share/u/rohit/www/closed_form/limitTest/original/' --csv_path '/share/u/rohit/erase-closed/data/holdout100_prompts.csv' --save_path '/share/u/rohit/www/closed_form/limitTest/' --edited_path '/share/u/rohit/www/closed_form/limitTest/erasing-1734-with-preservation/'\n"
     ]
    }
   ],
   "source": [
    "for count in [1, 5, 10, 25, 50, 100, 200, 300, 400, 500, 1000, 1500, 1734]:\n",
    "    print(f\"python eval-scripts/lpips_eval.py --original_path '/share/u/rohit/www/closed_form/limitTest/original/' --csv_path '/share/u/rohit/erase-closed/data/holdout100_prompts.csv' --save_path '/share/u/rohit/www/closed_form/limitTest/' --edited_path '/share/u/rohit/www/closed_form/limitTest/erasing-{count}-with-preservation/'\")"
   ]
  },
  {
   "cell_type": "code",
   "execution_count": null,
   "id": "d9a682d3",
   "metadata": {},
   "outputs": [],
   "source": []
  }
 ],
 "metadata": {
  "kernelspec": {
   "display_name": "Python 3 (ipykernel)",
   "language": "python",
   "name": "python3"
  },
  "language_info": {
   "codemirror_mode": {
    "name": "ipython",
    "version": 3
   },
   "file_extension": ".py",
   "mimetype": "text/x-python",
   "name": "python",
   "nbconvert_exporter": "python",
   "pygments_lexer": "ipython3",
   "version": "3.9.13"
  }
 },
 "nbformat": 4,
 "nbformat_minor": 5
}
